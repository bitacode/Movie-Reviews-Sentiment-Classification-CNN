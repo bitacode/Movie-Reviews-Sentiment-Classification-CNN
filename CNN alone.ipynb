{
 "cells": [
  {
   "cell_type": "markdown",
   "id": "280dfa24-03f7-4cd7-8a36-b1fb8a42c2be",
   "metadata": {},
   "source": [
    "**<h1>IMPORT LIBRARIES</h1>**"
   ]
  },
  {
   "cell_type": "code",
   "execution_count": 1,
   "id": "e59482db-e408-4411-b3be-596f16406776",
   "metadata": {},
   "outputs": [],
   "source": [
    "import os\n",
    "import re\n",
    "import pickle\n",
    "import pandas as pd\n",
    "import tensorflow as tf\n",
    "import numpy as np\n",
    "import seaborn as sns\n",
    "import matplotlib.pyplot as plt\n",
    "from transformers import BertTokenizer\n",
    "from tensorflow.keras import regularizers\n",
    "from tensorflow.keras.utils import to_categorical\n",
    "from tensorflow.keras.optimizers import Adam\n",
    "from tensorflow.keras.callbacks import EarlyStopping, ReduceLROnPlateau, ModelCheckpoint\n",
    "from tensorflow.keras.layers import Input, Conv1D, MaxPooling1D, GlobalMaxPooling1D, Dropout, Dense, Embedding, BatchNormalization\n",
    "from tensorflow.keras.models import Model, Sequential, load_model\n",
    "from sklearn.model_selection import train_test_split\n",
    "from sklearn.metrics import confusion_matrix, classification_report"
   ]
  },
  {
   "cell_type": "markdown",
   "id": "fb6d5404-d440-4daa-882e-e5f655a4a38e",
   "metadata": {},
   "source": [
    "**<h1>READ DATASET</h1>**"
   ]
  },
  {
   "cell_type": "code",
   "execution_count": null,
   "id": "b0f61069-30e6-4ded-9b94-e6f8123f66b7",
   "metadata": {},
   "outputs": [],
   "source": [
    "data = pd.read_csv('./resetted_index_cleaned_polarity_roberta.csv', index_col=0)"
   ]
  },
  {
   "cell_type": "code",
   "execution_count": null,
   "id": "3e38526a-7536-4daa-a0f2-3db1200b6e2e",
   "metadata": {},
   "outputs": [],
   "source": [
    "pos = data[data['sentiment'] == 'positive'].head(312564)\n",
    "neu = data[data['sentiment'] == 'neutral'].head(312564)\n",
    "neg = data[data['sentiment'] == 'negative'].head(312564)\n",
    "df = pd.concat([pos, neu, neg], ignore_index=True)"
   ]
  },
  {
   "cell_type": "code",
   "execution_count": null,
   "id": "564ade1f-62d5-42e2-856b-05c235db789d",
   "metadata": {},
   "outputs": [],
   "source": [
    "df['sentiment'] = df['sentiment'].replace({'positive': 0, 'negative': 1, 'neutral': 2})\n",
    "df.head()"
   ]
  },
  {
   "cell_type": "markdown",
   "id": "92ff9784-9a34-4d4a-b205-5c9edb1c5c7b",
   "metadata": {},
   "source": [
    "**<h1>SPLIT DATASET</h1>**"
   ]
  },
  {
   "cell_type": "code",
   "execution_count": null,
   "id": "d771a130-9cad-4575-8efd-8d8c7b469af5",
   "metadata": {},
   "outputs": [],
   "source": [
    "X = df['cleaned_review'].tolist()\n",
    "for index, value in enumerate(X):\n",
    "    if isinstance(value, float):\n",
    "        X[index] = str(value)"
   ]
  },
  {
   "cell_type": "code",
   "execution_count": null,
   "id": "6a78e56c-c2e8-4740-9568-0f660c1c2589",
   "metadata": {},
   "outputs": [],
   "source": [
    "y = to_categorical(df['sentiment'])\n",
    "y = np.array(y)"
   ]
  },
  {
   "cell_type": "code",
   "execution_count": null,
   "id": "53827557-d700-4f43-b63e-cc5d99ac2910",
   "metadata": {},
   "outputs": [],
   "source": [
    "X_train, X_test, y_train, y_test = train_test_split(X, y, test_size=0.3, random_state=0)"
   ]
  },
  {
   "cell_type": "markdown",
   "id": "62c27b2c-f4fe-45fa-b1d8-dc9d4f4b7727",
   "metadata": {},
   "source": [
    "**<h1>TOKENIZATION</h1>**"
   ]
  },
  {
   "cell_type": "code",
   "execution_count": 2,
   "id": "86dcc6f8-3cb4-4d51-a94a-51641e1d709a",
   "metadata": {},
   "outputs": [],
   "source": [
    "model_name = 'bert-base-uncased'\n",
    "tokenizer = BertTokenizer.from_pretrained(model_name)"
   ]
  },
  {
   "cell_type": "code",
   "execution_count": 3,
   "id": "0505dd64-f59c-422c-9c72-199ec8c68950",
   "metadata": {},
   "outputs": [],
   "source": [
    "shape = 96\n",
    "batch_size = 64"
   ]
  },
  {
   "cell_type": "code",
   "execution_count": null,
   "id": "35cfac2c-5b35-4fbe-a209-722dc6e686e2",
   "metadata": {},
   "outputs": [],
   "source": [
    "train_encodings = tokenizer(X_train, padding='max_length', truncation=True, max_length=shape, return_tensors='tf')"
   ]
  },
  {
   "cell_type": "code",
   "execution_count": null,
   "id": "f8b0b705-3933-41de-857d-78771186ec7a",
   "metadata": {},
   "outputs": [],
   "source": [
    "test_encodings = tokenizer(X_test, padding='max_length', truncation=True, max_length=shape, return_tensors='tf')"
   ]
  },
  {
   "cell_type": "markdown",
   "id": "ff6bd466-a904-4a12-a60e-2081e3b36178",
   "metadata": {},
   "source": [
    "## **LOAD TOKENIZATION**"
   ]
  },
  {
   "cell_type": "code",
   "execution_count": 4,
   "id": "8e60f525-3c0d-4c2c-a9d2-d9b0432668c0",
   "metadata": {},
   "outputs": [],
   "source": [
    "save_path_train = './fix/train_encodings/'\n",
    "save_path_test = './fix/test_encodings/'\n",
    "save_path_y_train = './fix/y_train/y_train.tfrecord'\n",
    "save_path_y_test = './fix/y_test/y_test.tfrecord'"
   ]
  },
  {
   "cell_type": "code",
   "execution_count": 5,
   "id": "541b28ca-636d-4b22-9f8a-a2d86d802d47",
   "metadata": {},
   "outputs": [],
   "source": [
    "serialized_tensor_train = tf.io.read_file(save_path_y_train)\n",
    "serialized_tensor_test = tf.io.read_file(save_path_y_test)"
   ]
  },
  {
   "cell_type": "code",
   "execution_count": 6,
   "id": "534a7462-38b5-4fb1-8099-fbaf4c5d9925",
   "metadata": {},
   "outputs": [],
   "source": [
    "loaded_tensor_train = tf.io.parse_tensor(serialized_tensor_train, out_type=tf.float32)\n",
    "loaded_tensor_test = tf.io.parse_tensor(serialized_tensor_test, out_type=tf.float32)"
   ]
  },
  {
   "cell_type": "code",
   "execution_count": 7,
   "id": "de5c288e-7414-4661-b7ee-98d5ad2198a0",
   "metadata": {},
   "outputs": [],
   "source": [
    "loaded_y_train = loaded_tensor_train.numpy()\n",
    "loaded_y_test = loaded_tensor_test.numpy()"
   ]
  },
  {
   "cell_type": "code",
   "execution_count": 8,
   "id": "ce2f1cc1-1f52-431d-bf2f-345e92a22182",
   "metadata": {},
   "outputs": [],
   "source": [
    "loaded_train_encodings = {}\n",
    "for key in ['input_ids', 'attention_mask', 'token_type_ids']:\n",
    "    tensor = tf.io.read_file(f\"{save_path_train}/{key}.tfrecord\")\n",
    "    loaded_train_encodings[key] = tf.io.parse_tensor(tensor, out_type=tf.int32)"
   ]
  },
  {
   "cell_type": "code",
   "execution_count": 9,
   "id": "1e54a147-05c8-4af8-8b95-d59878d0552d",
   "metadata": {},
   "outputs": [],
   "source": [
    "loaded_test_encodings = {}\n",
    "for key in ['input_ids', 'attention_mask', 'token_type_ids']:\n",
    "    tensor = tf.io.read_file(f\"{save_path_test}/{key}.tfrecord\")\n",
    "    loaded_test_encodings[key] = tf.io.parse_tensor(tensor, out_type=tf.int32)"
   ]
  },
  {
   "cell_type": "markdown",
   "id": "0117a670-9790-4ce2-9f37-eb2d0612ad99",
   "metadata": {},
   "source": [
    "**<h1>CONVERT TO TENSORFLOW DATASET</h1>**"
   ]
  },
  {
   "cell_type": "code",
   "execution_count": 10,
   "id": "1a205a2d-502a-45e6-969b-cee9d5c4d506",
   "metadata": {},
   "outputs": [],
   "source": [
    "def create_tf_dataset(encodings, labels):\n",
    "    return tf.data.Dataset.from_tensor_slices((\n",
    "        encodings['input_ids'],  # Use only input_ids\n",
    "        tf.constant(labels)\n",
    "    )).batch(batch_size, drop_remainder=True)"
   ]
  },
  {
   "cell_type": "code",
   "execution_count": 11,
   "id": "37325ec1-5e6f-4b9b-9089-dfda065fd3b8",
   "metadata": {},
   "outputs": [],
   "source": [
    "train_tf_dataset = create_tf_dataset(loaded_train_encodings, loaded_y_train)\n",
    "test_tf_dataset = create_tf_dataset(loaded_test_encodings, loaded_y_test)"
   ]
  },
  {
   "cell_type": "markdown",
   "id": "8a3a4a75-697a-4440-b45c-b9da75ccacd6",
   "metadata": {},
   "source": [
    "**<h1>CNN MODEL</h1>**"
   ]
  },
  {
   "cell_type": "code",
   "execution_count": 12,
   "id": "f30f2d28-b066-48fc-8dff-cfa3fd4ab10a",
   "metadata": {},
   "outputs": [],
   "source": [
    "model = Sequential([\n",
    "    Embedding(input_dim=tokenizer.vocab_size, output_dim=768, input_length=shape),\n",
    "\n",
    "    Conv1D(64, 8, activation='relu', kernel_regularizer=regularizers.l2(0.001)),\n",
    "    BatchNormalization(),\n",
    "    MaxPooling1D(2),\n",
    "    Dropout(0.45),\n",
    "\n",
    "    Conv1D(128, 5, activation='relu', kernel_regularizer=regularizers.l2(0.001)),\n",
    "    BatchNormalization(),\n",
    "    MaxPooling1D(2),\n",
    "    Dropout(0.45),\n",
    "\n",
    "    Conv1D(256, 3, activation='relu', kernel_regularizer=regularizers.l2(0.001)),\n",
    "    GlobalMaxPooling1D(),\n",
    "\n",
    "    Dense(64, activation='relu', kernel_regularizer=regularizers.l2(0.001)),\n",
    "    Dense(3, activation='softmax')\n",
    "])"
   ]
  },
  {
   "cell_type": "markdown",
   "id": "9cd35d93-37bd-4913-8ae0-75e6f2deae03",
   "metadata": {},
   "source": [
    "**<h1>TRAIN MODEL</h1>**"
   ]
  },
  {
   "cell_type": "code",
   "execution_count": 13,
   "id": "5b816d18-0b94-4c44-8416-c879f221d3f0",
   "metadata": {},
   "outputs": [],
   "source": [
    "model.compile(optimizer=Adam(learning_rate=1e-5), loss='categorical_crossentropy', metrics=['accuracy'])"
   ]
  },
  {
   "cell_type": "code",
   "execution_count": 14,
   "id": "6b7724e0-de7b-4f90-b255-b545872b96dd",
   "metadata": {},
   "outputs": [],
   "source": [
    "early_stopping = EarlyStopping(monitor='val_loss', patience=5, restore_best_weights=True)\n",
    "reduce_lr = ReduceLROnPlateau(monitor='val_loss', factor=0.2, patience=2, min_lr=1e-2)\n",
    "checkpoint = ModelCheckpoint('./fix/cnn_alone.keras', save_best_only=True, monitor='val_loss', mode='min')"
   ]
  },
  {
   "cell_type": "code",
   "execution_count": 15,
   "id": "1aed2c9a-769b-4cdc-9284-69d9f90dda78",
   "metadata": {},
   "outputs": [
    {
     "name": "stdout",
     "output_type": "stream",
     "text": [
      "Epoch 1/50\n",
      "10256/10256 [==============================] - 203s 19ms/step - loss: 1.6181 - accuracy: 0.3499 - val_loss: 1.4933 - val_accuracy: 0.4339 - lr: 1.0000e-05\n",
      "Epoch 2/50\n",
      "10256/10256 [==============================] - 196s 19ms/step - loss: 1.3438 - accuracy: 0.5335 - val_loss: 1.1683 - val_accuracy: 0.6456 - lr: 1.0000e-05\n",
      "Epoch 3/50\n",
      "10256/10256 [==============================] - 196s 19ms/step - loss: 1.1287 - accuracy: 0.6491 - val_loss: 1.0417 - val_accuracy: 0.6896 - lr: 1.0000e-05\n",
      "Epoch 4/50\n",
      "10256/10256 [==============================] - 196s 19ms/step - loss: 1.0179 - accuracy: 0.6891 - val_loss: 0.9634 - val_accuracy: 0.7130 - lr: 1.0000e-05\n",
      "Epoch 5/50\n",
      "10256/10256 [==============================] - 197s 19ms/step - loss: 0.9379 - accuracy: 0.7139 - val_loss: 0.8939 - val_accuracy: 0.7288 - lr: 1.0000e-05\n",
      "Epoch 6/50\n",
      "10256/10256 [==============================] - 197s 19ms/step - loss: 0.8727 - accuracy: 0.7311 - val_loss: 0.8569 - val_accuracy: 0.7325 - lr: 1.0000e-05\n",
      "Epoch 7/50\n",
      "10256/10256 [==============================] - 201s 20ms/step - loss: 0.8201 - accuracy: 0.7457 - val_loss: 0.8032 - val_accuracy: 0.7455 - lr: 1.0000e-05\n",
      "Epoch 8/50\n",
      "10256/10256 [==============================] - 197s 19ms/step - loss: 0.7756 - accuracy: 0.7566 - val_loss: 0.7738 - val_accuracy: 0.7497 - lr: 1.0000e-05\n",
      "Epoch 9/50\n",
      "10256/10256 [==============================] - 196s 19ms/step - loss: 0.7357 - accuracy: 0.7677 - val_loss: 0.7454 - val_accuracy: 0.7559 - lr: 1.0000e-05\n",
      "Epoch 10/50\n",
      "10256/10256 [==============================] - 196s 19ms/step - loss: 0.7007 - accuracy: 0.7772 - val_loss: 0.7240 - val_accuracy: 0.7589 - lr: 1.0000e-05\n",
      "Epoch 11/50\n",
      "10256/10256 [==============================] - 197s 19ms/step - loss: 0.6685 - accuracy: 0.7861 - val_loss: 0.7013 - val_accuracy: 0.7642 - lr: 1.0000e-05\n",
      "Epoch 12/50\n",
      "10256/10256 [==============================] - 197s 19ms/step - loss: 0.6384 - accuracy: 0.7954 - val_loss: 0.6874 - val_accuracy: 0.7662 - lr: 1.0000e-05\n",
      "Epoch 13/50\n",
      "10256/10256 [==============================] - 196s 19ms/step - loss: 0.6116 - accuracy: 0.8037 - val_loss: 0.6731 - val_accuracy: 0.7702 - lr: 1.0000e-05\n",
      "Epoch 14/50\n",
      "10256/10256 [==============================] - 196s 19ms/step - loss: 0.5852 - accuracy: 0.8132 - val_loss: 0.6616 - val_accuracy: 0.7723 - lr: 1.0000e-05\n",
      "Epoch 15/50\n",
      "10256/10256 [==============================] - 197s 19ms/step - loss: 0.5615 - accuracy: 0.8199 - val_loss: 0.6513 - val_accuracy: 0.7747 - lr: 1.0000e-05\n",
      "Epoch 16/50\n",
      "10256/10256 [==============================] - 198s 19ms/step - loss: 0.5385 - accuracy: 0.8278 - val_loss: 0.6456 - val_accuracy: 0.7766 - lr: 1.0000e-05\n",
      "Epoch 17/50\n",
      "10256/10256 [==============================] - 199s 19ms/step - loss: 0.5162 - accuracy: 0.8363 - val_loss: 0.6445 - val_accuracy: 0.7790 - lr: 1.0000e-05\n",
      "Epoch 18/50\n",
      "10256/10256 [==============================] - 202s 20ms/step - loss: 0.4959 - accuracy: 0.8429 - val_loss: 0.6396 - val_accuracy: 0.7801 - lr: 1.0000e-05\n",
      "Epoch 19/50\n",
      "10256/10256 [==============================] - 199s 19ms/step - loss: 0.4769 - accuracy: 0.8499 - val_loss: 0.6343 - val_accuracy: 0.7807 - lr: 1.0000e-05\n",
      "Epoch 20/50\n",
      "10256/10256 [==============================] - 201s 20ms/step - loss: 0.4584 - accuracy: 0.8560 - val_loss: 0.6340 - val_accuracy: 0.7828 - lr: 1.0000e-05\n",
      "Epoch 21/50\n",
      "10256/10256 [==============================] - 200s 19ms/step - loss: 0.4397 - accuracy: 0.8626 - val_loss: 0.6352 - val_accuracy: 0.7827 - lr: 1.0000e-05\n",
      "Epoch 22/50\n",
      "10256/10256 [==============================] - 201s 20ms/step - loss: 0.4237 - accuracy: 0.8687 - val_loss: 0.6416 - val_accuracy: 0.7840 - lr: 1.0000e-05\n",
      "Epoch 23/50\n",
      "10256/10256 [==============================] - 200s 20ms/step - loss: 0.4085 - accuracy: 0.8737 - val_loss: 0.6399 - val_accuracy: 0.7848 - lr: 1.0000e-05\n",
      "Epoch 24/50\n",
      "10256/10256 [==============================] - 201s 20ms/step - loss: 0.3928 - accuracy: 0.8795 - val_loss: 0.6433 - val_accuracy: 0.7854 - lr: 1.0000e-05\n",
      "Epoch 25/50\n",
      "10256/10256 [==============================] - 199s 19ms/step - loss: 0.3791 - accuracy: 0.8843 - val_loss: 0.6511 - val_accuracy: 0.7859 - lr: 1.0000e-05\n"
     ]
    }
   ],
   "source": [
    "history = model.fit(train_tf_dataset, epochs=50, validation_data=(test_tf_dataset), callbacks=[checkpoint, early_stopping, reduce_lr])"
   ]
  },
  {
   "cell_type": "code",
   "execution_count": 16,
   "id": "70919ebe-7db4-45a6-8939-c27d16fbe8d2",
   "metadata": {},
   "outputs": [
    {
     "name": "stdout",
     "output_type": "stream",
     "text": [
      "Model: \"sequential\"\n",
      "_________________________________________________________________\n",
      " Layer (type)                Output Shape              Param #   \n",
      "=================================================================\n",
      " embedding (Embedding)       (None, 96, 768)           23440896  \n",
      "                                                                 \n",
      " conv1d (Conv1D)             (None, 89, 64)            393280    \n",
      "                                                                 \n",
      " batch_normalization (BatchN  (None, 89, 64)           256       \n",
      " ormalization)                                                   \n",
      "                                                                 \n",
      " max_pooling1d (MaxPooling1D  (None, 44, 64)           0         \n",
      " )                                                               \n",
      "                                                                 \n",
      " dropout (Dropout)           (None, 44, 64)            0         \n",
      "                                                                 \n",
      " conv1d_1 (Conv1D)           (None, 40, 128)           41088     \n",
      "                                                                 \n",
      " batch_normalization_1 (Batc  (None, 40, 128)          512       \n",
      " hNormalization)                                                 \n",
      "                                                                 \n",
      " max_pooling1d_1 (MaxPooling  (None, 20, 128)          0         \n",
      " 1D)                                                             \n",
      "                                                                 \n",
      " dropout_1 (Dropout)         (None, 20, 128)           0         \n",
      "                                                                 \n",
      " conv1d_2 (Conv1D)           (None, 18, 256)           98560     \n",
      "                                                                 \n",
      " global_max_pooling1d (Globa  (None, 256)              0         \n",
      " lMaxPooling1D)                                                  \n",
      "                                                                 \n",
      " dense (Dense)               (None, 64)                16448     \n",
      "                                                                 \n",
      " dense_1 (Dense)             (None, 3)                 195       \n",
      "                                                                 \n",
      "=================================================================\n",
      "Total params: 23,991,235\n",
      "Trainable params: 23,990,851\n",
      "Non-trainable params: 384\n",
      "_________________________________________________________________\n"
     ]
    }
   ],
   "source": [
    "model.summary()"
   ]
  },
  {
   "cell_type": "markdown",
   "id": "10f9118f-a0ee-4237-a2d6-68e3d4a924e8",
   "metadata": {},
   "source": [
    "**<h1>HISTORY LOG</h1>**"
   ]
  },
  {
   "cell_type": "code",
   "execution_count": 17,
   "id": "054a8201-939f-45e2-a98e-998a86111ffb",
   "metadata": {},
   "outputs": [],
   "source": [
    "with open('./fix/cnn_alone.pkl', 'wb') as file_pi:\n",
    "    pickle.dump(history.history, file_pi)"
   ]
  },
  {
   "cell_type": "code",
   "execution_count": 18,
   "id": "b3bbfafe-b28e-4af0-862b-819ba734afd0",
   "metadata": {},
   "outputs": [
    {
     "data": {
      "image/png": "[encoded data removed]",
      "text/plain": [
       "<Figure size 1200x400 with 2 Axes>"
      ]
     },
     "metadata": {},
     "output_type": "display_data"
    }
   ],
   "source": [
    "def plot_training_history(history):\n",
    "    # Plot training & validation accuracy values\n",
    "    plt.figure(figsize=(12, 4))\n",
    "\n",
    "    plt.subplot(1, 2, 1)\n",
    "    plt.plot(history.history['accuracy'])\n",
    "    plt.plot(history.history['val_accuracy'])\n",
    "    plt.title('Model Accuracy Batch Size 64')\n",
    "    plt.ylabel('Accuracy')\n",
    "    plt.xlabel('Epoch')\n",
    "    plt.legend(['Train', 'Validation'], loc='upper left')\n",
    "\n",
    "    # Plot training & validation loss values\n",
    "    plt.subplot(1, 2, 2)\n",
    "    plt.plot(history.history['loss'])\n",
    "    plt.plot(history.history['val_loss'])\n",
    "    plt.title('Model Loss Batch Size 32')\n",
    "    plt.ylabel('Loss')\n",
    "    plt.xlabel('Epoch')\n",
    "    plt.legend(['Train', 'Validation'], loc='upper left')\n",
    "\n",
    "    plt.show()\n",
    "\n",
    "plot_training_history(history)"
   ]
  },
  {
   "cell_type": "code",
   "execution_count": 19,
   "id": "9c895756-8a09-4686-8420-f7e8d80a98b6",
   "metadata": {},
   "outputs": [],
   "source": [
    "loaded_model = load_model('./fix/cnn_alone.keras')"
   ]
  },
  {
   "cell_type": "markdown",
   "id": "62e1dfbe-4252-4cc1-9c62-09334d7eeb5f",
   "metadata": {},
   "source": [
    "**<h1>VALIDATION</h1>**"
   ]
  },
  {
   "cell_type": "code",
   "execution_count": 20,
   "id": "ac4589d5-57bb-400a-ba14-bbbb1f56087e",
   "metadata": {},
   "outputs": [
    {
     "name": "stdout",
     "output_type": "stream",
     "text": [
      "4395/4395 [==============================] - 18s 4ms/step\n"
     ]
    }
   ],
   "source": [
    "y_pred_prob = loaded_model.predict(test_tf_dataset)\n",
    "y_pred = np.argmax(y_pred_prob, axis=1)"
   ]
  },
  {
   "cell_type": "code",
   "execution_count": 21,
   "id": "1a74e95a-6f41-46ab-bec9-f252e71599d2",
   "metadata": {},
   "outputs": [],
   "source": [
    "y_true = np.concatenate([y for x, y in test_tf_dataset], axis=0)\n",
    "y_true = np.argmax(y_true, axis=1)"
   ]
  },
  {
   "cell_type": "code",
   "execution_count": 22,
   "id": "bba0be5a-a932-4161-a759-75e6730a6a32",
   "metadata": {},
   "outputs": [],
   "source": [
    "conf_matrix = confusion_matrix(y_true, y_pred)"
   ]
  },
  {
   "cell_type": "code",
   "execution_count": 23,
   "id": "f40b049f-3da3-4ad2-b117-9f2b70c9c1e2",
   "metadata": {},
   "outputs": [
    {
     "data": {
      "image/png": "[encoded data removed]",
      "text/plain": [
       "<Figure size 1000x700 with 2 Axes>"
      ]
     },
     "metadata": {},
     "output_type": "display_data"
    }
   ],
   "source": [
    "plt.figure(figsize=(10, 7))\n",
    "sns.heatmap(conf_matrix, annot=True, fmt='d', cmap='Blues', xticklabels=['Positive', 'Negative', 'Neutral'], yticklabels=['Positive', 'Negative', 'Neutral'])\n",
    "plt.xlabel('Predicted', fontsize=14, fontweight='bold')\n",
    "plt.ylabel('Actual', fontsize=14, fontweight='bold')\n",
    "plt.title('Confusion Matrix', fontsize=16, fontweight='bold')\n",
    "plt.show()"
   ]
  },
  {
   "cell_type": "code",
   "execution_count": 24,
   "id": "9dfe7bb8-181d-4c93-8bed-cfa52896c613",
   "metadata": {},
   "outputs": [
    {
     "name": "stdout",
     "output_type": "stream",
     "text": [
      "              precision    recall  f1-score   support\n",
      "\n",
      "    Positive       0.85      0.83      0.84     93727\n",
      "    Negative       0.82      0.81      0.81     93579\n",
      "     Neutral       0.69      0.71      0.70     93974\n",
      "\n",
      "    accuracy                           0.78    281280\n",
      "   macro avg       0.78      0.78      0.78    281280\n",
      "weighted avg       0.78      0.78      0.78    281280\n",
      "\n"
     ]
    }
   ],
   "source": [
    "print(classification_report(y_true, y_pred, target_names=['Positive', 'Negative', 'Neutral']))"
   ]
  },
  {
   "cell_type": "code",
   "execution_count": null,
   "id": "a0c04628-6db2-4a1b-8cde-d13cb12a5186",
   "metadata": {},
   "outputs": [],
   "source": []
  }
 ],
 "metadata": {
  "kernelspec": {
   "display_name": "Python 3 (ipykernel)",
   "language": "python",
   "name": "python3"
  },
  "language_info": {
   "codemirror_mode": {
    "name": "ipython",
    "version": 3
   },
   "file_extension": ".py",
   "mimetype": "text/x-python",
   "name": "python",
   "nbconvert_exporter": "python",
   "pygments_lexer": "ipython3",
   "version": "3.10.14"
  }
 },
 "nbformat": 4,
 "nbformat_minor": 5
}
